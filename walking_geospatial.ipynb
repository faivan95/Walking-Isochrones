{
 "cells": [
  {
   "cell_type": "code",
   "execution_count": null,
   "id": "9b986707",
   "metadata": {},
   "outputs": [],
   "source": [
    "%pip install osmnx geopandas matplotlib contextily"
   ]
  },
  {
   "cell_type": "code",
   "execution_count": null,
   "id": "1d0a011f",
   "metadata": {},
   "outputs": [],
   "source": [
    "import osmnx as ox\n",
    "\n",
    "#Standard OSMnx settings\n",
    "ox.settings.log_console = True\n",
    "ox.settings.use_cache = True\n",
    "\n",
    "#Munich walkable network\n",
    "G = ox.graph_from_place(\"Munich, Germany\", network_type=\"walk\")"
   ]
  },
  {
   "cell_type": "code",
   "execution_count": null,
   "id": "5d33f02e",
   "metadata": {},
   "outputs": [],
   "source": [
    "#Checking the graph\n",
    "print(f\"Nodes: {len(G.nodes)}, Edges: {len(G.edges)}\")\n",
    "ox.plot_graph(G, node_size=5, figsize=(6, 6))\n"
   ]
  },
  {
   "cell_type": "code",
   "execution_count": null,
   "id": "d8def7eb",
   "metadata": {},
   "outputs": [],
   "source": [
    "#Setting Marienplatz as center\n",
    "marienplatz_point = (48.137154, 11.576124)\n",
    "center_node = ox.distance.nearest_nodes(G,\n",
    "                                        X=marienplatz_point[1],\n",
    "                                        Y=marienplatz_point[0])\n",
    "print(f\"Marienplatz: {center_node}\")\n"
   ]
  },
  {
   "cell_type": "code",
   "execution_count": null,
   "id": "a0ea1dfe",
   "metadata": {},
   "outputs": [],
   "source": [
    "#Converting the graph distance to meters\n",
    "G_proj = ox.project_graph(G)\n",
    "node_proj = ox.project_graph(G).nodes[center_node]\n"
   ]
  },
  {
   "cell_type": "code",
   "execution_count": null,
   "id": "92ee3174",
   "metadata": {},
   "outputs": [],
   "source": [
    "import networkx as nx\n",
    "\n",
    "#Defining thresholds in meters\n",
    "speed_mps = 1.39 #Assuming average walking speed is 5 km/h which translates to 1.39 m/s\n",
    "times = [5, 10, 15]  #Minutes\n",
    "distances = [speed_mps * t * 60 for t in times]\n",
    "\n",
    "#Extracting required subgraphs for each threshold\n",
    "subgraphs = {}\n",
    "for t, dist in zip(times, distances):\n",
    "    subG = nx.ego_graph(G_proj, center_node, radius=dist, distance=\"length\")\n",
    "    subgraphs[t] = subG #All nodes reachable from Marienplatz within the specified time at average walking speed of 5 km/h\n",
    "    print(f\"{t}-min subgraph: {len(subG.nodes)} nodes, {len(subG.edges)} edges\")\n"
   ]
  },
  {
   "cell_type": "code",
   "execution_count": null,
   "id": "77dd4a9d",
   "metadata": {},
   "outputs": [],
   "source": [
    "#Converting each subgraph to it's corresponding geodata polygon\n",
    "#Used external resources for this section......needed the help xD\n",
    "import geopandas as gpd\n",
    "\n",
    "isochrones = []\n",
    "\n",
    "for t, subG in subgraphs.items():\n",
    "    #Coverted edge geometries to GeoDataFrame\n",
    "    gdf_edges = ox.graph_to_gdfs(subG, nodes=False, edges=True)\n",
    "    \n",
    "    #Generate the boundary by dissolving into one multilinestring, buffer, and get the outer ring\n",
    "    multi_line = gdf_edges.geometry.union_all()\n",
    "    poly = gpd.GeoSeries([multi_line.buffer(50)])\n",
    "    poly = poly.buffer(0).union_all()\n",
    "    \n",
    "    #Saving as GeoDataFrame\n",
    "    isochrones.append(\n",
    "        {\"time_min\": t, \"geometry\": poly}\n",
    "    )\n",
    "\n",
    "iso_gdf = gpd.GeoDataFrame(isochrones, crs=gdf_edges.crs)\n",
    "print(iso_gdf)\n"
   ]
  },
  {
   "cell_type": "code",
   "execution_count": null,
   "id": "c6437aa6",
   "metadata": {},
   "outputs": [],
   "source": [
    "#Overlap the reachable walking polygons on top of Munich map from contextily\n",
    "import matplotlib.pyplot as plt\n",
    "import shapely.geometry as geom\n",
    "import contextily as ctx\n",
    "\n",
    "#Plotting\n",
    "fig, ax = plt.subplots(figsize=(8, 8))\n",
    "iso_gdf.plot(cmap=\"viridis_r\",\n",
    "             alpha=0.5,\n",
    "             linewidth=0.5,\n",
    "             edgecolor=\"black\",\n",
    "             legend=True,\n",
    "             ax=ax)\n",
    "\n",
    "#Added marker for Marienplatz\n",
    "marienplatz_geom = gpd.GeoSeries([geom.Point(node_proj['x'], node_proj['y'])], crs=G_proj.graph['crs'])\n",
    "marienplatz_geom.plot(ax=ax, color=\"red\", markersize=50)\n",
    "\n",
    "#Add Munich basemap\n",
    "ctx.add_basemap(ax, source=ctx.providers.OpenStreetMap.Mapnik, crs=G_proj.graph['crs'])\n",
    "ax.set_axis_off()\n",
    "plt.title(\"Walking Isochrones from Marienplatz (5, 10, 15 min)\")\n",
    "plt.show()\n"
   ]
  }
 ],
 "metadata": {
  "kernelspec": {
   "display_name": ".venv",
   "language": "python",
   "name": "python3"
  },
  "language_info": {
   "codemirror_mode": {
    "name": "ipython",
    "version": 3
   },
   "file_extension": ".py",
   "mimetype": "text/x-python",
   "name": "python",
   "nbconvert_exporter": "python",
   "pygments_lexer": "ipython3",
   "version": "3.13.0"
  }
 },
 "nbformat": 4,
 "nbformat_minor": 5
}
